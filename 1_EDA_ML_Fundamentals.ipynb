{
  "nbformat": 4,
  "nbformat_minor": 0,
  "metadata": {
    "colab": {
      "name": "1_EDA_ML_Fundamentals.ipynb",
      "provenance": [],
      "collapsed_sections": [],
      "authorship_tag": "ABX9TyNsGkC1GqgS4x5Ji5RcoBPw",
      "include_colab_link": true
    },
    "kernelspec": {
      "name": "python3",
      "display_name": "Python 3"
    },
    "language_info": {
      "name": "python"
    }
  },
  "cells": [
    {
      "cell_type": "markdown",
      "metadata": {
        "id": "view-in-github",
        "colab_type": "text"
      },
      "source": [
        "<a href=\"https://colab.research.google.com/github/raviakasapu/EDA_ML/blob/main/1_EDA_ML_Fundamentals.ipynb\" target=\"_parent\"><img src=\"https://colab.research.google.com/assets/colab-badge.svg\" alt=\"Open In Colab\"/></a>"
      ]
    },
    {
      "cell_type": "markdown",
      "source": [
        "# EDA Fundamentals"
      ],
      "metadata": {
        "id": "LLPhdaWKvdwa"
      }
    },
    {
      "cell_type": "markdown",
      "source": [
        "https://github.com/PacktPublishing/Hands-on-Exploratory-Data-Analysis-with-Python"
      ],
      "metadata": {
        "id": "Wty0fTCgv470"
      }
    },
    {
      "cell_type": "code",
      "source": [
        "import numpy as np"
      ],
      "metadata": {
        "id": "3qWjOM4_v4VP"
      },
      "execution_count": 1,
      "outputs": []
    },
    {
      "cell_type": "code",
      "source": [
        "my1DArray = np.array([1, 8, 27, 64])\n",
        "print(my1DArray)"
      ],
      "metadata": {
        "colab": {
          "base_uri": "https://localhost:8080/"
        },
        "id": "D3b1oBDSwJrc",
        "outputId": "d54c754d-f565-4892-e2b8-dc9fdc5c87cd"
      },
      "execution_count": 2,
      "outputs": [
        {
          "output_type": "stream",
          "name": "stdout",
          "text": [
            "[ 1  8 27 64]\n"
          ]
        }
      ]
    },
    {
      "cell_type": "code",
      "source": [
        "my2DArray = np.array([[1, 2, 3, 4], [2, 4, 9, 16], [4, 8, 18, 32]])\n",
        "print(my2DArray)"
      ],
      "metadata": {
        "colab": {
          "base_uri": "https://localhost:8080/"
        },
        "id": "vmroieF6wYID",
        "outputId": "15d4ac85-659c-48c1-8539-c102d79e34b3"
      },
      "execution_count": 3,
      "outputs": [
        {
          "output_type": "stream",
          "name": "stdout",
          "text": [
            "[[ 1  2  3  4]\n",
            " [ 2  4  9 16]\n",
            " [ 4  8 18 32]]\n"
          ]
        }
      ]
    },
    {
      "cell_type": "code",
      "source": [
        "my3Darray = np.array([[[ 1, 2 , 3 , 4],[ 5 , 6 , 7  ,8]], [[ 1,  2,  3,  4],[ 9, 10, 11, 12]]])\n",
        "print(my3Darray)"
      ],
      "metadata": {
        "colab": {
          "base_uri": "https://localhost:8080/"
        },
        "id": "RUCeE_OtwboL",
        "outputId": "05d3bae8-6f1e-4633-ebb1-60a32715298f"
      },
      "execution_count": 4,
      "outputs": [
        {
          "output_type": "stream",
          "name": "stdout",
          "text": [
            "[[[ 1  2  3  4]\n",
            "  [ 5  6  7  8]]\n",
            "\n",
            " [[ 1  2  3  4]\n",
            "  [ 9 10 11 12]]]\n"
          ]
        }
      ]
    },
    {
      "cell_type": "code",
      "source": [
        "ones = np.ones((3,4))\n",
        "print(ones)"
      ],
      "metadata": {
        "colab": {
          "base_uri": "https://localhost:8080/"
        },
        "id": "sBpujkP6wvvT",
        "outputId": "c833acff-277d-4b77-9273-a2fd0748d5cd"
      },
      "execution_count": 5,
      "outputs": [
        {
          "output_type": "stream",
          "name": "stdout",
          "text": [
            "[[1. 1. 1. 1.]\n",
            " [1. 1. 1. 1.]\n",
            " [1. 1. 1. 1.]]\n"
          ]
        }
      ]
    },
    {
      "cell_type": "code",
      "source": [
        "zeros = np.zeros((2,3,4),dtype=np.int16)\n",
        "print(zeros)"
      ],
      "metadata": {
        "colab": {
          "base_uri": "https://localhost:8080/"
        },
        "id": "-VnZKktQw0EA",
        "outputId": "e7a61a80-2e49-46f8-e464-fb62819a58f8"
      },
      "execution_count": 6,
      "outputs": [
        {
          "output_type": "stream",
          "name": "stdout",
          "text": [
            "[[[0 0 0 0]\n",
            "  [0 0 0 0]\n",
            "  [0 0 0 0]]\n",
            "\n",
            " [[0 0 0 0]\n",
            "  [0 0 0 0]\n",
            "  [0 0 0 0]]]\n"
          ]
        }
      ]
    },
    {
      "cell_type": "code",
      "source": [
        "np.random.random((2,2))"
      ],
      "metadata": {
        "colab": {
          "base_uri": "https://localhost:8080/"
        },
        "id": "21JYoOHjw3y4",
        "outputId": "7f9fa081-a473-4585-f7a9-d02799cbaa9f"
      },
      "execution_count": 7,
      "outputs": [
        {
          "output_type": "execute_result",
          "data": {
            "text/plain": [
              "array([[0.29140338, 0.34415007],\n",
              "       [0.81338556, 0.18398157]])"
            ]
          },
          "metadata": {},
          "execution_count": 7
        }
      ]
    },
    {
      "cell_type": "code",
      "source": [
        "emptyArray = np.empty((3,2))\n",
        "print(emptyArray)"
      ],
      "metadata": {
        "colab": {
          "base_uri": "https://localhost:8080/"
        },
        "id": "WIAUSeSHw60B",
        "outputId": "d8906a24-a606-4651-a0aa-c9fff9e45649"
      },
      "execution_count": 8,
      "outputs": [
        {
          "output_type": "stream",
          "name": "stdout",
          "text": [
            "[[1.09236887e-316 0.00000000e+000]\n",
            " [0.00000000e+000 0.00000000e+000]\n",
            " [0.00000000e+000 0.00000000e+000]]\n"
          ]
        }
      ]
    },
    {
      "cell_type": "code",
      "source": [
        "fullArray = np.full((2,2),7)\n",
        "print(fullArray)"
      ],
      "metadata": {
        "colab": {
          "base_uri": "https://localhost:8080/"
        },
        "id": "oD_YgL0yw8OQ",
        "outputId": "0a6fdc69-9722-4f2a-8675-d279fc7ba54e"
      },
      "execution_count": 9,
      "outputs": [
        {
          "output_type": "stream",
          "name": "stdout",
          "text": [
            "[[7 7]\n",
            " [7 7]]\n"
          ]
        }
      ]
    },
    {
      "cell_type": "code",
      "source": [
        "evenSpacedArray = np.arange(10,25,5)\n",
        "print(evenSpacedArray)"
      ],
      "metadata": {
        "colab": {
          "base_uri": "https://localhost:8080/"
        },
        "id": "GeP3bYNpw679",
        "outputId": "2a74c858-a969-4a11-94a0-275c84dff606"
      },
      "execution_count": 10,
      "outputs": [
        {
          "output_type": "stream",
          "name": "stdout",
          "text": [
            "[10 15 20]\n"
          ]
        }
      ]
    },
    {
      "cell_type": "code",
      "source": [
        "evenSpacedArray2 = np.linspace(0,2,9)\n",
        "print(evenSpacedArray2)"
      ],
      "metadata": {
        "colab": {
          "base_uri": "https://localhost:8080/"
        },
        "id": "blsCyY5OxD_U",
        "outputId": "0fdaaff9-6304-45bb-8461-8b52c572e250"
      },
      "execution_count": 11,
      "outputs": [
        {
          "output_type": "stream",
          "name": "stdout",
          "text": [
            "[0.   0.25 0.5  0.75 1.   1.25 1.5  1.75 2.  ]\n"
          ]
        }
      ]
    },
    {
      "cell_type": "markdown",
      "source": [
        "### broadcasting"
      ],
      "metadata": {
        "id": "7k9YXRWzxNHp"
      }
    },
    {
      "cell_type": "code",
      "source": [
        "A =np.ones((6, 8))\n",
        "B = np.random.random((6,8))\n",
        "A, B"
      ],
      "metadata": {
        "colab": {
          "base_uri": "https://localhost:8080/"
        },
        "id": "bd95wWQrxOqo",
        "outputId": "731502f6-29c4-4c24-fdb7-889b3ea27162"
      },
      "execution_count": 14,
      "outputs": [
        {
          "output_type": "execute_result",
          "data": {
            "text/plain": [
              "(array([[1., 1., 1., 1., 1., 1., 1., 1.],\n",
              "        [1., 1., 1., 1., 1., 1., 1., 1.],\n",
              "        [1., 1., 1., 1., 1., 1., 1., 1.],\n",
              "        [1., 1., 1., 1., 1., 1., 1., 1.],\n",
              "        [1., 1., 1., 1., 1., 1., 1., 1.],\n",
              "        [1., 1., 1., 1., 1., 1., 1., 1.]]),\n",
              " array([[0.54209332, 0.11246739, 0.88743733, 0.46906034, 0.68005691,\n",
              "         0.6883916 , 0.35441155, 0.52300594],\n",
              "        [0.84398982, 0.06983876, 0.28695771, 0.98381645, 0.95340693,\n",
              "         0.08586412, 0.49349314, 0.60639928],\n",
              "        [0.05701944, 0.49101736, 0.53736455, 0.05694742, 0.19671163,\n",
              "         0.23555056, 0.36876114, 0.76452357],\n",
              "        [0.14793248, 0.02431284, 0.45296042, 0.83218389, 0.1378893 ,\n",
              "         0.41524354, 0.88722787, 0.26254498],\n",
              "        [0.55398137, 0.5364068 , 0.5239253 , 0.13339861, 0.54862156,\n",
              "         0.06165706, 0.79170136, 0.42953944],\n",
              "        [0.01158269, 0.94995509, 0.38401214, 0.81747252, 0.88520931,\n",
              "         0.36476056, 0.24117504, 0.29771875]]))"
            ]
          },
          "metadata": {},
          "execution_count": 14
        }
      ]
    },
    {
      "cell_type": "code",
      "source": [
        "print(A + B)"
      ],
      "metadata": {
        "colab": {
          "base_uri": "https://localhost:8080/"
        },
        "id": "5k22208qxaol",
        "outputId": "871bdf72-3594-41cf-d50a-2a934fb2ee58"
      },
      "execution_count": 15,
      "outputs": [
        {
          "output_type": "stream",
          "name": "stdout",
          "text": [
            "[[1.54209332 1.11246739 1.88743733 1.46906034 1.68005691 1.6883916\n",
            "  1.35441155 1.52300594]\n",
            " [1.84398982 1.06983876 1.28695771 1.98381645 1.95340693 1.08586412\n",
            "  1.49349314 1.60639928]\n",
            " [1.05701944 1.49101736 1.53736455 1.05694742 1.19671163 1.23555056\n",
            "  1.36876114 1.76452357]\n",
            " [1.14793248 1.02431284 1.45296042 1.83218389 1.1378893  1.41524354\n",
            "  1.88722787 1.26254498]\n",
            " [1.55398137 1.5364068  1.5239253  1.13339861 1.54862156 1.06165706\n",
            "  1.79170136 1.42953944]\n",
            " [1.01158269 1.94995509 1.38401214 1.81747252 1.88520931 1.36476056\n",
            "  1.24117504 1.29771875]]\n"
          ]
        }
      ]
    },
    {
      "cell_type": "code",
      "source": [
        "x = np.ones((3,4))\n",
        "print(x)"
      ],
      "metadata": {
        "colab": {
          "base_uri": "https://localhost:8080/"
        },
        "id": "Pxtr9mrlxeFg",
        "outputId": "d183937c-dc2c-43b7-c5ec-56a079bcc206"
      },
      "execution_count": 16,
      "outputs": [
        {
          "output_type": "stream",
          "name": "stdout",
          "text": [
            "[[1. 1. 1. 1.]\n",
            " [1. 1. 1. 1.]\n",
            " [1. 1. 1. 1.]]\n"
          ]
        }
      ]
    },
    {
      "cell_type": "code",
      "source": [
        "y = np.arange(4)\n",
        "print(y)"
      ],
      "metadata": {
        "colab": {
          "base_uri": "https://localhost:8080/"
        },
        "id": "ImB28QsAxhMC",
        "outputId": "9178a4c8-fb21-44c4-abee-92a4e131fc60"
      },
      "execution_count": 17,
      "outputs": [
        {
          "output_type": "stream",
          "name": "stdout",
          "text": [
            "[0 1 2 3]\n"
          ]
        }
      ]
    },
    {
      "cell_type": "code",
      "source": [
        "x-y"
      ],
      "metadata": {
        "colab": {
          "base_uri": "https://localhost:8080/"
        },
        "id": "siMjcf-pxjPS",
        "outputId": "f78a98c4-605a-4b5e-ff80-2f72e9cebc3e"
      },
      "execution_count": 18,
      "outputs": [
        {
          "output_type": "execute_result",
          "data": {
            "text/plain": [
              "array([[ 1.,  0., -1., -2.],\n",
              "       [ 1.,  0., -1., -2.],\n",
              "       [ 1.,  0., -1., -2.]])"
            ]
          },
          "metadata": {},
          "execution_count": 18
        }
      ]
    },
    {
      "cell_type": "code",
      "source": [
        "x = np.array([10, 20, 30, 40, 50])\n",
        "print(x[0:2])"
      ],
      "metadata": {
        "colab": {
          "base_uri": "https://localhost:8080/"
        },
        "id": "qqG4DYQcxrGv",
        "outputId": "aac81d4f-d456-4746-d598-29b75ff0de1c"
      },
      "execution_count": 20,
      "outputs": [
        {
          "output_type": "stream",
          "name": "stdout",
          "text": [
            "[10 20]\n"
          ]
        }
      ]
    },
    {
      "cell_type": "code",
      "source": [
        "y = np.array([[ 1,  2,  3,  4], [ 9, 10, 11 ,12]])\n",
        "print(y)\n",
        "print(y[0:2, 1])"
      ],
      "metadata": {
        "colab": {
          "base_uri": "https://localhost:8080/"
        },
        "id": "QRHnjguvxvfN",
        "outputId": "759f2619-b39c-466d-8f93-c04c88c63add"
      },
      "execution_count": 23,
      "outputs": [
        {
          "output_type": "stream",
          "name": "stdout",
          "text": [
            "[[ 1  2  3  4]\n",
            " [ 9 10 11 12]]\n",
            "[ 2 10]\n"
          ]
        }
      ]
    },
    {
      "cell_type": "code",
      "source": [
        "biggerThan2 = (y >= 2)\n",
        "print(y[biggerThan2])"
      ],
      "metadata": {
        "colab": {
          "base_uri": "https://localhost:8080/"
        },
        "id": "AZQGKaUAxyKp",
        "outputId": "a0fde9ba-857f-4ba9-ec0a-09ab2c8969f4"
      },
      "execution_count": 22,
      "outputs": [
        {
          "output_type": "stream",
          "name": "stdout",
          "text": [
            "[ 2  3  4  9 10 11 12]\n"
          ]
        }
      ]
    },
    {
      "cell_type": "markdown",
      "source": [
        "# pandas"
      ],
      "metadata": {
        "id": "XK3g9rihx9Wc"
      }
    },
    {
      "cell_type": "code",
      "source": [
        ""
      ],
      "metadata": {
        "id": "ZC9lz0Sqx-Zc"
      },
      "execution_count": null,
      "outputs": []
    }
  ]
}